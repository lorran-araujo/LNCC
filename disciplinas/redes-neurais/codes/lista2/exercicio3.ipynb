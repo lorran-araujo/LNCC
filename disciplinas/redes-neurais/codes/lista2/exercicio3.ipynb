{
 "cells": [
  {
   "cell_type": "markdown",
   "metadata": {},
   "source": [
    "**Estude a teoria da PCA para problemas com amostras pequenas**, onde o número de pontos de dados é menor\n",
    "que a dimensão do espaço de dados (veja [3] ou a seção 12.1.4 de [1]). Escolha um banco de dados de imagens ([6],\n",
    "por exemplo), converta as imagens para tons de cinza e aplique a teoria de ‘PCA para problemas com amostras pequenas’\n",
    "para a redução de dimensionalidade.\n",
    "\n",
    "1. **Seja** x a média amostral (centróide do conjunto de dados) e p1 o componente principal. Visualize o\n",
    "   resultado da expressão:\n",
    "\n",
    "   x = x + αp1\n",
    "\n",
    "   onde α ∈ {−βλ1, 0, βλ1} com λ1 sendo o autovalor associado a p1\n",
    "   e β um fator escalar (veja [5]).\n",
    "\n",
    "2. **Estude o espectro da matriz** X^T X para realizar a redução de dimensionalidade. Visualize algumas\n",
    "   imagens no espaço de dimensão reduzida.\n",
    "\n",
    "3. **Construa um gerador de imagens** usando os d componentes principais escolhidos no item (2).\n",
    "\n"
   ]
  },
  {
   "cell_type": "code",
   "execution_count": null,
   "metadata": {
    "vscode": {
     "languageId": "plaintext"
    }
   },
   "outputs": [],
   "source": [
    "from keras.datasets import fashion_mnist\n",
    "from keras.layers import Dense,Dropout\n",
    "from keras.models import Sequential\n",
    "from keras.optimizers import Adam\n",
    "import numpy as np\n",
    "from sklearn.model_selection import train_test_split, KFold, GridSearchCV\n",
    "import cv2\n",
    "import matplotlib.pyplot as plt\n",
    "from scikeras.wrappers import KerasClassifier"
   ]
  }
 ],
 "metadata": {
  "language_info": {
   "name": "python"
  }
 },
 "nbformat": 4,
 "nbformat_minor": 2
}
