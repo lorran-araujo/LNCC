{
 "cells": [
  {
   "cell_type": "markdown",
   "metadata": {},
   "source": [
    "![](prob3.png)"
   ]
  },
  {
   "cell_type": "markdown",
   "metadata": {},
   "source": [
    "Montando fórmulas:"
   ]
  },
  {
   "cell_type": "code",
   "execution_count": 7,
   "metadata": {},
   "outputs": [
    {
     "name": "stdout",
     "output_type": "stream",
     "text": [
      "Para as primeiras coordenadas:\n",
      "1 = 99999.99999 / 2 = 99999.99999 / 3 = -99999.96614643588\n",
      "1 = 99999.99999 / 2 = 1.0000000001000001e-05 / 3 = -1.0000003385357559e-05\n",
      "Para a segunda:\n",
      "1 = 2.000316227765758 / 2 = 2.000316227765758 / 3 = -2.000316227765758\n",
      "1 = 2.000316227765758 / 2 = 1.999683772234242 / 3 = -1.999683772234242\n",
      "Para a terceira:\n",
      "1 = 0.5 / 2 = -1.3333333333333333 / 3 = -0.5\n",
      "1 = 0.5 / 2 = 0.5 / 3 = 1.3333333333333333\n"
     ]
    }
   ],
   "source": [
    "import numpy as np\n",
    "\n",
    "#Fórmula 1\n",
    "def bhaskara_1(a, b, c):\n",
    "    x = np.zeros(2)\n",
    "    x[0] = (-b+np.sqrt((b**2)-4*a*c))/(2*a)\n",
    "    x[1] = (-b+np.sqrt((b**2)-4*a*c))/(2*a)\n",
    "    return x\n",
    "\n",
    "#Fórmula 2\n",
    "def bhaskara_2(a, b, c):\n",
    "    x = np.zeros(2)\n",
    "    \n",
    "    if b >= 0:\n",
    "        x[0] = -(b+np.sqrt((b**2)-4*a*c))/(2*a)\n",
    "    else:\n",
    "        x[0] = -(b-np.sqrt((b**2)-4*a*c))/(2*a)    \n",
    "    \n",
    "    x[1] = c/(a*x[0])\n",
    "    return x\n",
    "\n",
    "#Fórmula 1\n",
    "def bhaskara_3(a, b, c):\n",
    "    x = np.zeros(2)\n",
    "    x[0] = -(-2*c)/(b+np.sqrt((b**2)-4*a*c))\n",
    "    x[1] = c/(a*x[0])\n",
    "    return x\n",
    "\n",
    "#Comparando valores\n",
    "x1 = bhaskara_1(1, -(10**5), 1)\n",
    "x2 = bhaskara_2(1, -(10**5), 1)\n",
    "x3 = bhaskara_3(1, -(10**5), 1)\n",
    "\n",
    "print(\"Para as primeiras coordenadas:\")\n",
    "for i in range(0, 2):\n",
    "    print(f'1 = {x1[i]} / 2 = {x2[i]} / 3 = {x3[i]}')\n",
    "\n",
    "x1 = bhaskara_1(1, -4, 3.9999999)\n",
    "x2 = bhaskara_2(1, -4, 3.9999999)\n",
    "x3 = bhaskara_3(1, -4, 3.9999999)\n",
    "\n",
    "print(\"Para a segunda:\")\n",
    "for i in range(0, 2):\n",
    "    print(f'1 = {x1[i]} / 2 = {x2[i]} / 3 = {x3[i]}')\n",
    "\n",
    "x1 = bhaskara_1(6, 5, -4)\n",
    "x2 = bhaskara_2(6, 5, -4)\n",
    "x3 = bhaskara_3(6, 5, -4)\n",
    "\n",
    "print(\"Para a terceira:\")\n",
    "for i in range(0, 2):\n",
    "    print(f'1 = {x1[i]} / 2 = {x2[i]} / 3 = {x3[i]}')"
   ]
  }
 ],
 "metadata": {
  "kernelspec": {
   "display_name": "Python 3",
   "language": "python",
   "name": "python3"
  },
  "language_info": {
   "codemirror_mode": {
    "name": "ipython",
    "version": 3
   },
   "file_extension": ".py",
   "mimetype": "text/x-python",
   "name": "python",
   "nbconvert_exporter": "python",
   "pygments_lexer": "ipython3",
   "version": "3.10.12"
  }
 },
 "nbformat": 4,
 "nbformat_minor": 2
}
