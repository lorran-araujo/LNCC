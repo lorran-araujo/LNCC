{
 "cells": [
  {
   "cell_type": "markdown",
   "metadata": {},
   "source": [
    "![](prob1.png)"
   ]
  },
  {
   "cell_type": "markdown",
   "metadata": {},
   "source": [
    "Vamos resolver então para o primeiro conjunto de dados:"
   ]
  },
  {
   "cell_type": "code",
   "execution_count": 10,
   "metadata": {},
   "outputs": [
    {
     "name": "stdout",
     "output_type": "stream",
     "text": [
      "Variância = 144.0\n"
     ]
    }
   ],
   "source": [
    "import numpy as np\n",
    "\n",
    "a = [4, 7, 13, 16]\n",
    "#a = np.array(lista)\n",
    "\n",
    "#calculando a média\n",
    "m = 0\n",
    "for i in range(0, 4):\n",
    "    m = m + a[i]\n",
    "m = m/4\n",
    "\n",
    "#calculando a variancia\n",
    "S1 = 0\n",
    "for n in range(0, 4):\n",
    "    S1 = S1 + ((a[i]-m)**2)\n",
    "\n",
    "print(f\"Variância = {S1}\")\n"
   ]
  },
  {
   "cell_type": "markdown",
   "metadata": {},
   "source": [
    "Já calculando de maneira conjunta através da equação 2, teremos:"
   ]
  },
  {
   "cell_type": "code",
   "execution_count": 13,
   "metadata": {},
   "outputs": [
    {
     "name": "stdout",
     "output_type": "stream",
     "text": [
      "Variância = 480.0\n"
     ]
    }
   ],
   "source": [
    "P1 = 0\n",
    "P2 = 0\n",
    "for n in range(0, 4):\n",
    "    P1 = P1 + a[n]**2\n",
    "    P2 = P2 + a[n]\n",
    "S2 = P1 - (1/4)*P2\n",
    "\n",
    "print(f\"Variância = {S2}\")"
   ]
  },
  {
   "cell_type": "markdown",
   "metadata": {},
   "source": [
    "Para o segundo conjunto de dados, teremos:"
   ]
  },
  {
   "cell_type": "code",
   "execution_count": 14,
   "metadata": {},
   "outputs": [
    {
     "name": "stdout",
     "output_type": "stream",
     "text": [
      "Variância = 1.44e+18\n"
     ]
    }
   ],
   "source": [
    "b = [4*(10**8), 7*(10**8), 13*(10**8), 16*(10**8)]\n",
    "#a = np.array(lista)\n",
    "\n",
    "#calculando a média\n",
    "m = 0\n",
    "for i in range(0, 4):\n",
    "    m = m + b[i]\n",
    "m = m/4\n",
    "\n",
    "#calculando a variancia\n",
    "S1 = 0\n",
    "for n in range(0, 4):\n",
    "    S1 = S1 + ((b[i]-m)**2)\n",
    "\n",
    "print(f\"Variância = {S1}\")\n"
   ]
  },
  {
   "cell_type": "markdown",
   "metadata": {},
   "source": [
    "Com a equação 2:"
   ]
  },
  {
   "cell_type": "code",
   "execution_count": 15,
   "metadata": {},
   "outputs": [
    {
     "name": "stdout",
     "output_type": "stream",
     "text": [
      "Variância = 4.899999999e+18\n"
     ]
    }
   ],
   "source": [
    "P1 = 0\n",
    "P2 = 0\n",
    "for n in range(0, 4):\n",
    "    P1 = P1 + b[n]**2\n",
    "    P2 = P2 + b[n]\n",
    "S2 = P1 - (1/4)*P2\n",
    "\n",
    "print(f\"Variância = {S2}\")"
   ]
  }
 ],
 "metadata": {
  "kernelspec": {
   "display_name": "Python 3",
   "language": "python",
   "name": "python3"
  },
  "language_info": {
   "codemirror_mode": {
    "name": "ipython",
    "version": 3
   },
   "file_extension": ".py",
   "mimetype": "text/x-python",
   "name": "python",
   "nbconvert_exporter": "python",
   "pygments_lexer": "ipython3",
   "version": "3.10.12"
  }
 },
 "nbformat": 4,
 "nbformat_minor": 2
}
