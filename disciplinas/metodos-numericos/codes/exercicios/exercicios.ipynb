{
 "cells": [
  {
   "cell_type": "markdown",
   "metadata": {},
   "source": [
    "# Integrais Numéricas"
   ]
  },
  {
   "cell_type": "markdown",
   "metadata": {},
   "source": [
    "## Trapezoidal Rule"
   ]
  },
  {
   "cell_type": "code",
   "execution_count": 11,
   "metadata": {},
   "outputs": [
    {
     "name": "stdout",
     "output_type": "stream",
     "text": [
      "11.780972450961723\n",
      "12.268956307674939\n",
      "12.386125363687706\n"
     ]
    }
   ],
   "source": [
    "import numpy as np\n",
    "\n",
    "def trapezoidal_rule(function, n, a, b):\n",
    "    if n < 1:\n",
    "        raise ValueError('Erro! Número de partições não compatível com a regra.')\n",
    "    \n",
    "    h = (b-a)/n\n",
    "    \n",
    "    I = 0\n",
    "\n",
    "    for i in range (n+1):\n",
    "        x = a + h*i\n",
    "\n",
    "        if x == a or x == b:\n",
    "            I += function(x)     \n",
    "        else:\n",
    "            I += 2*function(a + h*i)\n",
    "    \n",
    "    I = I*(h/2)\n",
    "\n",
    "    return I\n",
    "\n",
    "\n",
    "function = lambda t: 6 + 3*np.cos(t)\n",
    "\n",
    "I1 = trapezoidal_rule(function, n=1, a=0, b=np.pi/2)\n",
    "I2 = trapezoidal_rule(function, n=2, a=0, b=np.pi/2)\n",
    "I3 = trapezoidal_rule(function, n=4, a=0, b=np.pi/2)\n",
    "\n",
    "print(I1)\n",
    "print(I2)\n",
    "print(I3)\n"
   ]
  },
  {
   "cell_type": "markdown",
   "metadata": {},
   "source": [
    "## Simpson's 1/3 rule"
   ]
  },
  {
   "cell_type": "code",
   "execution_count": 16,
   "metadata": {},
   "outputs": [
    {
     "name": "stdout",
     "output_type": "stream",
     "text": [
      "12.43161759324601\n",
      "12.425181715691961\n"
     ]
    }
   ],
   "source": [
    "import numpy as np\n",
    "\n",
    "def simpson13_rule(function, n, a, b):\n",
    "    if n % 2 != 0 or n < 2:\n",
    "        raise ValueError('Erro! Número de partições não compatível com a regra.')\n",
    "        \n",
    "    \n",
    "    h = (b-a)/n\n",
    "    \n",
    "    I = 0\n",
    "\n",
    "    for i in range (n+1):\n",
    "        x = a + h*i\n",
    "\n",
    "        if x == a or x == b:\n",
    "            I += function(x)     \n",
    "        elif i % 2 == 0:\n",
    "            I += 2*function(a + h*i)\n",
    "        else:\n",
    "            I += 4*function(a + h*i)\n",
    "    \n",
    "    I = I*(h/3)\n",
    "\n",
    "    return I\n",
    "\n",
    "\n",
    "function = lambda t: 6 + 3*np.cos(t)\n",
    "\n",
    "#I1 = simpson13_rule(function, n=1, a=0, b=np.pi/2)\n",
    "I2 = simpson13_rule(function, n=2, a=0, b=np.pi/2)\n",
    "I3 = simpson13_rule(function, n=4, a=0, b=np.pi/2)\n",
    "\n",
    "#print(I1)\n",
    "print(I2)\n",
    "print(I3)"
   ]
  },
  {
   "cell_type": "markdown",
   "metadata": {},
   "source": [
    "## Simpson's 3/8 rule"
   ]
  },
  {
   "cell_type": "code",
   "execution_count": 23,
   "metadata": {},
   "outputs": [
    {
     "name": "stdout",
     "output_type": "stream",
     "text": [
      "12.427792730712214\n",
      "13.066498241590626\n"
     ]
    }
   ],
   "source": [
    "import numpy as np\n",
    "\n",
    "def simpson38_rule(function, n, a, b):\n",
    "    if n % 2 == 0 or n < 3:\n",
    "        raise ValueError('Erro! Número de partições não compatível com a regra.')\n",
    "        \n",
    "    \n",
    "    h = (b-a)/n\n",
    "    \n",
    "    I = 0\n",
    "\n",
    "    for i in range (n+1):\n",
    "        x = a + h*i\n",
    "\n",
    "        if x == a or x == b:\n",
    "            I += function(x)     \n",
    "        else:\n",
    "            I += 3*function(a + h*i)\n",
    "    \n",
    "    I = I*3*(h/8)\n",
    "\n",
    "    return I\n",
    "\n",
    "\n",
    "function = lambda t: 6 + 3*np.cos(t)\n",
    "\n",
    "#I1 = simpson13_rule(function, n=1, a=0, b=np.pi/2)\n",
    "I2 = simpson38_rule(function, n=3, a=0, b=np.pi/2)\n",
    "I3 = simpson38_rule(function, n=5, a=0, b=np.pi/2)\n",
    "\n",
    "#print(I1)\n",
    "print(I2)\n",
    "print(I3)"
   ]
  },
  {
   "cell_type": "code",
   "execution_count": 22,
   "metadata": {},
   "outputs": [
    {
     "name": "stdout",
     "output_type": "stream",
     "text": [
      "6.362194455788718\n",
      "[2.         6.19466217]\n"
     ]
    }
   ],
   "source": [
    "import numpy as np\n",
    "from scipy.integrate import solve_ivp\n",
    "\n",
    "def heun(function, x, y, h, k):\n",
    "\n",
    "    # predictor\n",
    "    y_solution = (y + h*function(x,y))\n",
    "\n",
    "    # corrector \n",
    "    for i in range(k):\n",
    "        y_solution = y + (h/2)*(function(x,y) + function(x+h, y_solution))\n",
    "    \n",
    "    return y_solution\n",
    "\n",
    "f = lambda x, y: 4*(np.exp(0.8*x)) - 0.5*y\n",
    "\n",
    "solution = heun(function=f, x=0, y=2, h = 1, k=5)\n",
    "\n",
    "\n",
    "x0 = 0\n",
    "x_final = 1\n",
    "h=1\n",
    "x_span = (0,1)\n",
    "t_eval = np.arange(x0, x_final+h, h)\n",
    "\n",
    "print(solution)\n",
    "sol = solve_ivp(fun=f, t_span=x_span, y0=[2], t_eval=t_eval)\n",
    "print(sol.y[0])\n"
   ]
  },
  {
   "cell_type": "code",
   "execution_count": null,
   "metadata": {},
   "outputs": [],
   "source": []
  }
 ],
 "metadata": {
  "kernelspec": {
   "display_name": "Python 3",
   "language": "python",
   "name": "python3"
  },
  "language_info": {
   "codemirror_mode": {
    "name": "ipython",
    "version": 3
   },
   "file_extension": ".py",
   "mimetype": "text/x-python",
   "name": "python",
   "nbconvert_exporter": "python",
   "pygments_lexer": "ipython3",
   "version": "3.10.12"
  }
 },
 "nbformat": 4,
 "nbformat_minor": 2
}
