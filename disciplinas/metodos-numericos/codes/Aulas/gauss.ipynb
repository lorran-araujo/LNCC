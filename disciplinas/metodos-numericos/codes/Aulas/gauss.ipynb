{
 "cells": [
  {
   "cell_type": "markdown",
   "metadata": {},
   "source": [
    "**Método de Gauss**\n",
    "\n",
    "Construção de uma rotina do méotod de Gauss para resolução de sistemas lineares"
   ]
  },
  {
   "cell_type": "code",
   "execution_count": 41,
   "metadata": {},
   "outputs": [],
   "source": [
    "import numpy as np\n",
    "\n",
    "def Gauss(n, A, b):\n",
    "    # Pré processamento\n",
    "\n",
    "    for i in range(0, n):\n",
    "        if A[i][i] == 0:\n",
    "            return print(\"Erro\")\n",
    "            exit(1)\n",
    "\n",
    "    x = np.empty(n)\n",
    "\n",
    "    # Forward elimination\n",
    "    for k in range(n - 1):\n",
    "        for i in range(k + 1, n):\n",
    "            fator = A[i][k] / A[k][k]\n",
    "            for j in range(k, n):\n",
    "                A[i][j] = A[i][j] - fator * A[k][j]\n",
    "            b[i] = b[i] - fator * b[k]\n",
    "\n",
    "    # Back substitution\n",
    "    x[n - 1] = b[n - 1] / A[n - 1][n - 1]\n",
    "    for i in range(n - 2, -1, -1):\n",
    "        soma = b[i]\n",
    "        for j in range(i + 1, n):\n",
    "            soma = soma - A[i][j] * x[j]\n",
    "        x[i] = soma / A[i][i]\n",
    "\n",
    "    return x\n",
    "\n"
   ]
  },
  {
   "cell_type": "markdown",
   "metadata": {},
   "source": [
    "Testando com uma matriz:"
   ]
  },
  {
   "cell_type": "code",
   "execution_count": 43,
   "metadata": {},
   "outputs": [],
   "source": [
    "A = np.array([[2, 3, -1], [4, 4, -3], [-2, 3, -1]], dtype=float)\n",
    "b = np.array([5 , 3, 1], dtype=float)\n"
   ]
  },
  {
   "cell_type": "code",
   "execution_count": 44,
   "metadata": {},
   "outputs": [
    {
     "data": {
      "text/plain": [
       "array([1., 2., 3.])"
      ]
     },
     "execution_count": 44,
     "metadata": {},
     "output_type": "execute_result"
    }
   ],
   "source": [
    "x = Gauss(3, A, b)\n",
    "x\n"
   ]
  },
  {
   "cell_type": "code",
   "execution_count": 42,
   "metadata": {},
   "outputs": [
    {
     "name": "stdout",
     "output_type": "stream",
     "text": [
      "Erro\n"
     ]
    }
   ],
   "source": [
    "A = np.array([[2, 3, 1], [0, 0, 5], [0, 0, 6]], dtype=float)\n",
    "b = np.array([5 , 11, 18], dtype=float)\n",
    "x = Gauss(3, A, b)\n",
    "x"
   ]
  }
 ],
 "metadata": {
  "kernelspec": {
   "display_name": "Python 3",
   "language": "python",
   "name": "python3"
  },
  "language_info": {
   "codemirror_mode": {
    "name": "ipython",
    "version": 3
   },
   "file_extension": ".py",
   "mimetype": "text/x-python",
   "name": "python",
   "nbconvert_exporter": "python",
   "pygments_lexer": "ipython3",
   "version": "3.10.12"
  }
 },
 "nbformat": 4,
 "nbformat_minor": 2
}
