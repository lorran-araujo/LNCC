{
 "cells": [
  {
   "cell_type": "code",
   "execution_count": 14,
   "metadata": {},
   "outputs": [
    {
     "name": "stdout",
     "output_type": "stream",
     "text": [
      "1.640532900151721\n",
      "2431\n"
     ]
    }
   ],
   "source": [
    "import numpy as np # type: ignore\n",
    "\n",
    "a = 0\n",
    "b = 0.8\n",
    "\n",
    "def f(x):\n",
    "    return (0.2) + (25*x) - (200*(np.power(x,2))) + (675*(np.power(x,3))) - (900*(np.power(x,4))) + (400*np.power(x,5))\n",
    "\n",
    "def trapezoidal_rule(function, a ,b ,t):\n",
    "\n",
    "    I = 0\n",
    "\n",
    "    h = (b-a)/t\n",
    "\n",
    "    for i in range (0, t+1):\n",
    "\n",
    "        x = a + h*i\n",
    "\n",
    "        if x == a or x == b:\n",
    "            I += function(x)\n",
    "        else:\n",
    "            I += 2*function(x)\n",
    "\n",
    "    I *= h/2\n",
    "    \n",
    "    return I\n",
    "\n",
    "k = 1\n",
    "\n",
    "while np.abs((trapezoidal_rule(f,a, b, k) - 1.640533)) > 0.0000001:\n",
    "    k = k + 1\n",
    "\n",
    "print(trapezoidal_rule(f,a, b, k))\n",
    "print(k)"
   ]
  }
 ],
 "metadata": {
  "kernelspec": {
   "display_name": "Python 3",
   "language": "python",
   "name": "python3"
  },
  "language_info": {
   "codemirror_mode": {
    "name": "ipython",
    "version": 3
   },
   "file_extension": ".py",
   "mimetype": "text/x-python",
   "name": "python",
   "nbconvert_exporter": "python",
   "pygments_lexer": "ipython3",
   "version": "3.10.12"
  }
 },
 "nbformat": 4,
 "nbformat_minor": 2
}
